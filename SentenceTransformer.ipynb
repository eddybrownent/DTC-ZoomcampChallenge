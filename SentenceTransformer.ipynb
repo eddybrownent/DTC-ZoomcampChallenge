{
 "cells": [
  {
   "cell_type": "code",
   "execution_count": 1,
   "id": "5f4556c7-389c-49b8-8a31-9595c0d1e309",
   "metadata": {},
   "outputs": [],
   "source": [
    "import pandas as pd\n",
    "# using the pandas to read data\n",
    "df_trainQue = pd.read_csv('train_questions.csv')\n",
    "df_trainAns = pd.read_csv('train_answers.csv')\n",
    "df_testQue = pd.read_csv('test_questions.csv')\n",
    "df_testAns = pd.read_csv('test_answers.csv')"
   ]
  },
  {
   "cell_type": "code",
   "execution_count": 2,
   "id": "8d654989-4b2f-4ca0-bc34-b9d2962360eb",
   "metadata": {},
   "outputs": [],
   "source": [
    "# Merge training data (df_trainQue and df_trainAns)\n",
    "merged_df_train = pd.merge(df_trainQue, df_trainAns, on='answer_id', how='inner', suffixes=('_question', '_answer'))"
   ]
  },
  {
   "cell_type": "code",
   "execution_count": 3,
   "id": "4af85fcc-7cf4-4ca5-9ffc-85540b5a4a0b",
   "metadata": {},
   "outputs": [],
   "source": [
    "merged_df_train = merged_df_train.drop_duplicates()"
   ]
  },
  {
   "cell_type": "code",
   "execution_count": 8,
   "id": "7b3ee5b5-a06e-440b-84b7-45e8b7ef9c0d",
   "metadata": {},
   "outputs": [
    {
     "data": {
      "text/plain": [
       "396"
      ]
     },
     "execution_count": 8,
     "metadata": {},
     "output_type": "execute_result"
    }
   ],
   "source": [
    "merged_df_train['question'].nunique()"
   ]
  },
  {
   "cell_type": "code",
   "execution_count": 10,
   "id": "13765bfc-1128-4e2b-b2f8-e676a0a51b20",
   "metadata": {},
   "outputs": [
    {
     "name": "stdout",
     "output_type": "stream",
     "text": [
      "<class 'pandas.core.frame.DataFrame'>\n",
      "Int64Index: 397 entries, 0 to 398\n",
      "Data columns (total 10 columns):\n",
      " #   Column             Non-Null Count  Dtype \n",
      "---  ------             --------------  ----- \n",
      " 0   question_id        397 non-null    int64 \n",
      " 1   question           397 non-null    object\n",
      " 2   course_question    397 non-null    object\n",
      " 3   year_question      397 non-null    int64 \n",
      " 4   candidate_answers  397 non-null    object\n",
      " 5   answer_id          397 non-null    int64 \n",
      " 6   answer             397 non-null    object\n",
      " 7   course_answer      397 non-null    object\n",
      " 8   year_answer        397 non-null    int64 \n",
      " 9   attachments_files  25 non-null     object\n",
      "dtypes: int64(4), object(6)\n",
      "memory usage: 34.1+ KB\n"
     ]
    }
   ],
   "source": [
    "merged_df_train.info()"
   ]
  },
  {
   "cell_type": "code",
   "execution_count": 13,
   "id": "314de6f8-79bd-4603-944c-1faba09cf8b7",
   "metadata": {},
   "outputs": [],
   "source": [
    "from sentence_transformers import SentenceTransformer,util\n",
    "from tqdm.auto import tqdm\n",
    "\n",
    "model = SentenceTransformer('all-MiniLM-L6-v2')"
   ]
  },
  {
   "cell_type": "code",
   "execution_count": 14,
   "id": "362de97c-0726-45f8-8afc-2c97015452a3",
   "metadata": {},
   "outputs": [
    {
     "data": {
      "application/vnd.jupyter.widget-view+json": {
       "model_id": "bf361cd4ce1a464fb71a88590145a81c",
       "version_major": 2,
       "version_minor": 0
      },
      "text/plain": [
       "Batches:   0%|          | 0/13 [00:00<?, ?it/s]"
      ]
     },
     "metadata": {},
     "output_type": "display_data"
    },
    {
     "data": {
      "application/vnd.jupyter.widget-view+json": {
       "model_id": "d0c134b637da4c779a4a3f55da1f60a0",
       "version_major": 2,
       "version_minor": 0
      },
      "text/plain": [
       "Batches:   0%|          | 0/13 [00:00<?, ?it/s]"
      ]
     },
     "metadata": {},
     "output_type": "display_data"
    },
    {
     "data": {
      "application/vnd.jupyter.widget-view+json": {
       "model_id": "4ea60ae339094f53956905b078b6c05e",
       "version_major": 2,
       "version_minor": 0
      },
      "text/plain": [
       "  0%|          | 0/397 [00:00<?, ?it/s]"
      ]
     },
     "metadata": {},
     "output_type": "display_data"
    }
   ],
   "source": [
    "q_emb = model.encode(merged_df_train[\"question\"].values,show_progress_bar=True)\n",
    "ans_emb = model.encode(merged_df_train[\"answer\"].values,show_progress_bar=True)\n",
    "\n",
    "train_ans_dict = {}\n",
    "for idx,(_,row) in enumerate(tqdm(merged_df_train.iterrows(),total=len(merged_df_train))):\n",
    "    train_ans_dict[f\"{row['answer_id']}\"] = ans_emb[idx]"
   ]
  },
  {
   "cell_type": "code",
   "execution_count": 17,
   "id": "805422d6-81bb-447c-b81d-ce0e1bfe3413",
   "metadata": {},
   "outputs": [
    {
     "data": {
      "application/vnd.jupyter.widget-view+json": {
       "model_id": "3de706c1a41b438cbf875824a7e41406",
       "version_major": 2,
       "version_minor": 0
      },
      "text/plain": [
       "  0%|          | 0/397 [00:00<?, ?it/s]"
      ]
     },
     "metadata": {},
     "output_type": "display_data"
    }
   ],
   "source": [
    "import numpy as np\n",
    "from sklearn.metrics import accuracy_score\n",
    "\n",
    "merged_df_train[\"candidate_answers\"] = merged_df_train[\"candidate_answers\"].str.split(\",\")\n",
    "\n",
    "preds = []\n",
    "for idx,(_,row) in enumerate(tqdm(merged_df_train.iterrows(),total=len(merged_df_train))):\n",
    "    if idx != -1:\n",
    "        sim = []\n",
    "        for ca in row[\"candidate_answers\"]:\n",
    "            cos_sim = util.cos_sim(q_emb[idx],train_ans_dict[f\"{ca}\"])\n",
    "            sim.append(cos_sim.item())\n",
    "        aidx = np.argmax(np.array(sim))\n",
    "        preds.append(row[\"candidate_answers\"][aidx])"
   ]
  },
  {
   "cell_type": "code",
   "execution_count": 18,
   "id": "ae148918-4952-45de-ac42-d60fbfa2d8ec",
   "metadata": {},
   "outputs": [
    {
     "name": "stdout",
     "output_type": "stream",
     "text": [
      "Accuracy: 0.9295\n"
     ]
    }
   ],
   "source": [
    "preds = np.array(preds)\n",
    "accuracy = accuracy_score(merged_df_train.answer_id.values.ravel(),preds.astype(int).ravel())\n",
    "print(f'Accuracy: {accuracy:.4f}')"
   ]
  },
  {
   "cell_type": "code",
   "execution_count": 19,
   "id": "1e70740f-6198-4b83-9853-0388eae3dae2",
   "metadata": {},
   "outputs": [
    {
     "data": {
      "text/plain": [
       "SentenceTransformer(\n",
       "  (0): Transformer({'max_seq_length': 256, 'do_lower_case': False}) with Transformer model: BertModel \n",
       "  (1): Pooling({'word_embedding_dimension': 384, 'pooling_mode_cls_token': False, 'pooling_mode_mean_tokens': True, 'pooling_mode_max_tokens': False, 'pooling_mode_mean_sqrt_len_tokens': False})\n",
       "  (2): Normalize()\n",
       ")"
      ]
     },
     "execution_count": 19,
     "metadata": {},
     "output_type": "execute_result"
    }
   ],
   "source": [
    "model"
   ]
  },
  {
   "cell_type": "markdown",
   "id": "6a101b3d-a3c8-43d0-8175-0af854ca1f64",
   "metadata": {},
   "source": [
    "df_testQue = pd.read_csv('test_questions.csv')\n",
    "df_testAns = pd.read_csv('test_answers.csv')"
   ]
  },
  {
   "cell_type": "code",
   "execution_count": 22,
   "id": "cc8b0ed7-8a40-4f51-af03-ae8f25090d28",
   "metadata": {},
   "outputs": [],
   "source": [
    "import re\n",
    "def clean_text(text):\n",
    "    text = re.sub(r'[^\\w\\s]', '', text)\n",
    "    text = text.lower()\n",
    "    return text"
   ]
  },
  {
   "cell_type": "code",
   "execution_count": 23,
   "id": "97722d4a-8484-42eb-88c7-cca900a8bf2e",
   "metadata": {},
   "outputs": [],
   "source": [
    "df_testQue = df_testQue.drop_duplicates(subset='question_id')\n",
    "df_testQue['cleaned_question'] = df_testQue['question'].apply(clean_text)\n",
    "df_testAns['cleaned_answer'] = df_testAns['answer'].apply(clean_text)"
   ]
  },
  {
   "cell_type": "code",
   "execution_count": 24,
   "id": "12cb171f-ed62-4e07-b6d0-73947cfa6336",
   "metadata": {},
   "outputs": [
    {
     "data": {
      "application/vnd.jupyter.widget-view+json": {
       "model_id": "ceed0f4059ab4a20a4ca8e837fbcb25c",
       "version_major": 2,
       "version_minor": 0
      },
      "text/plain": [
       "Batches:   0%|          | 0/17 [00:00<?, ?it/s]"
      ]
     },
     "metadata": {},
     "output_type": "display_data"
    },
    {
     "data": {
      "application/vnd.jupyter.widget-view+json": {
       "model_id": "4ee19eb3282d4bf3a3d633a25924d164",
       "version_major": 2,
       "version_minor": 0
      },
      "text/plain": [
       "Batches:   0%|          | 0/17 [00:00<?, ?it/s]"
      ]
     },
     "metadata": {},
     "output_type": "display_data"
    }
   ],
   "source": [
    "df_testQue[\"candidate_answers\"] = df_testQue[\"candidate_answers\"].str.split(\",\")\n",
    "\n",
    "\n",
    "q_emb = model.encode(df_testQue[\"cleaned_question\"].values,show_progress_bar=True)\n",
    "ans_emb = model.encode(df_testAns[\"cleaned_answer\"].values,show_progress_bar=True)"
   ]
  },
  {
   "cell_type": "code",
   "execution_count": 28,
   "id": "ec101e29-9689-43c6-81b0-36ff80f6bd11",
   "metadata": {},
   "outputs": [
    {
     "name": "stdout",
     "output_type": "stream",
     "text": [
      "<class 'pandas.core.frame.DataFrame'>\n",
      "RangeIndex: 516 entries, 0 to 515\n",
      "Data columns (total 6 columns):\n",
      " #   Column             Non-Null Count  Dtype \n",
      "---  ------             --------------  ----- \n",
      " 0   answer_id          516 non-null    int64 \n",
      " 1   answer             516 non-null    object\n",
      " 2   course             516 non-null    object\n",
      " 3   year               516 non-null    int64 \n",
      " 4   attachments_files  8 non-null      object\n",
      " 5   cleaned_answer     516 non-null    object\n",
      "dtypes: int64(2), object(4)\n",
      "memory usage: 24.3+ KB\n"
     ]
    }
   ],
   "source": [
    "df_testAns.info()"
   ]
  },
  {
   "cell_type": "code",
   "execution_count": 34,
   "id": "a690ece3-cbb4-4acc-9452-84ce2bf731f0",
   "metadata": {},
   "outputs": [
    {
     "data": {
      "application/vnd.jupyter.widget-view+json": {
       "model_id": "90f2134088994a65b971c8422d381e50",
       "version_major": 2,
       "version_minor": 0
      },
      "text/plain": [
       "  0%|          | 0/516 [00:00<?, ?it/s]"
      ]
     },
     "metadata": {},
     "output_type": "display_data"
    },
    {
     "data": {
      "application/vnd.jupyter.widget-view+json": {
       "model_id": "1d01100f8afe41ceb0c14d8fad716f4e",
       "version_major": 2,
       "version_minor": 0
      },
      "text/plain": [
       "  0%|          | 0/514 [00:00<?, ?it/s]"
      ]
     },
     "metadata": {},
     "output_type": "display_data"
    }
   ],
   "source": [
    "from sklearn.metrics.pairwise import cosine_similarity\n",
    "\n",
    "test_ans_dict = {}\n",
    "for idx,(_,row) in enumerate(tqdm(df_testAns.iterrows(),total=len(df_testAns))):\n",
    "    test_ans_dict[f\"{row['answer_id']}\"] = ans_emb[idx]\n",
    "\n",
    "    \n",
    "preds = []\n",
    "for idx,(_,row) in enumerate(tqdm(df_testQue.iterrows(),total=len(df_testQue))):\n",
    "    if idx != -1:\n",
    "        sim = []\n",
    "        for ca in row[\"candidate_answers\"]:\n",
    "            cos_sim = util.cos_sim(q_emb[idx],test_ans_dict[f\"{ca}\"])\n",
    "            sim.append(cos_sim.item())\n",
    "            \n",
    "    \n",
    "        aidx = np.argmax(np.array(sim))\n",
    "        preds.append(row[\"candidate_answers\"][aidx])"
   ]
  },
  {
   "cell_type": "code",
   "execution_count": 39,
   "id": "26aa5cb2-6032-4715-a510-50d8122fe23b",
   "metadata": {},
   "outputs": [
    {
     "name": "stdout",
     "output_type": "stream",
     "text": [
      "<class 'pandas.core.frame.DataFrame'>\n",
      "Int64Index: 514 entries, 0 to 515\n",
      "Data columns (total 7 columns):\n",
      " #   Column               Non-Null Count  Dtype \n",
      "---  ------               --------------  ----- \n",
      " 0   question_id          514 non-null    int64 \n",
      " 1   question             514 non-null    object\n",
      " 2   course               514 non-null    object\n",
      " 3   year                 514 non-null    int64 \n",
      " 4   candidate_answers    514 non-null    object\n",
      " 5   cleaned_question     514 non-null    object\n",
      " 6   predicted_answer_id  514 non-null    object\n",
      "dtypes: int64(2), object(5)\n",
      "memory usage: 32.1+ KB\n"
     ]
    }
   ],
   "source": [
    "df_testQue[\"predicted_answer_id\"] = preds\n",
    "df_testQue.info()"
   ]
  },
  {
   "cell_type": "code",
   "execution_count": 46,
   "id": "f78dc34a-cd93-4007-a45f-cebcf8ea8f02",
   "metadata": {},
   "outputs": [
    {
     "name": "stdout",
     "output_type": "stream",
     "text": [
      "Test Accuracy: 1.0000\n"
     ]
    }
   ],
   "source": [
    "correct_predictions = df_testQue.apply(lambda row: row[\"predicted_answer_id\"] in row[\"candidate_answers\"], axis=1)\n",
    "accuracy_test = correct_predictions.mean()\n",
    "\n",
    "print(f'Test Accuracy: {accuracy_test:.4f}')"
   ]
  },
  {
   "cell_type": "code",
   "execution_count": 50,
   "id": "47901165-bcce-4842-b41b-05182c61f79b",
   "metadata": {},
   "outputs": [
    {
     "data": {
      "text/plain": [
       "(514, 7)"
      ]
     },
     "execution_count": 50,
     "metadata": {},
     "output_type": "execute_result"
    }
   ],
   "source": [
    "df_testQue.shape"
   ]
  },
  {
   "cell_type": "code",
   "execution_count": 51,
   "id": "64f56cf8-d912-4d62-9ae0-14cab097a26b",
   "metadata": {},
   "outputs": [],
   "source": [
    "df_testQue[[\"question_id\",\"predicted_answer_id\"]].to_csv(\"SentenceTransformer.csv\",index=False)"
   ]
  }
 ],
 "metadata": {
  "kernelspec": {
   "display_name": "Python 3 (ipykernel)",
   "language": "python",
   "name": "python3"
  },
  "language_info": {
   "codemirror_mode": {
    "name": "ipython",
    "version": 3
   },
   "file_extension": ".py",
   "mimetype": "text/x-python",
   "name": "python",
   "nbconvert_exporter": "python",
   "pygments_lexer": "ipython3",
   "version": "3.11.4"
  }
 },
 "nbformat": 4,
 "nbformat_minor": 5
}
