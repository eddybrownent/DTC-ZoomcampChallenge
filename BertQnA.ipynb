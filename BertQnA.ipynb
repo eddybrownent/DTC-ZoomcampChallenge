{
 "cells": [
  {
   "cell_type": "markdown",
   "id": "e6c1f981-d753-4a5a-bcc4-c4590af90664",
   "metadata": {},
   "source": [
    "# DTC Zoomcamp Q&A"
   ]
  },
  {
   "cell_type": "markdown",
   "id": "8e0b3bdd-9d5e-42f7-8bc5-3160fb0afe3c",
   "metadata": {},
   "source": [
    "## Objective: The primary goal is to develop a model that can accurately match a \n",
    "## given question to its correct answer using the provided dataset"
   ]
  },
  {
   "cell_type": "code",
   "execution_count": 1,
   "id": "08ee8077-944e-4df0-b673-a5481c92daef",
   "metadata": {},
   "outputs": [
    {
     "name": "stdout",
     "output_type": "stream",
     "text": [
      " attachments\t      dtc-zoomcamp-q-a-bert.ipynb   train_answers.csv\n",
      "'BertQ&A.ipynb'       test_answers.csv\t\t    train_questions.csv\n",
      " bert-starter.ipynb   test_questions.csv\n"
     ]
    }
   ],
   "source": [
    "!ls"
   ]
  },
  {
   "cell_type": "code",
   "execution_count": 2,
   "id": "c09610ae-cd0a-48d1-9469-e485a7eb6ce8",
   "metadata": {},
   "outputs": [],
   "source": [
    "import pandas as pd"
   ]
  },
  {
   "cell_type": "code",
   "execution_count": 3,
   "id": "ad79bcb7-9040-4773-9c75-d0317cffeb0c",
   "metadata": {},
   "outputs": [],
   "source": [
    "# using the pandas to read data\n",
    "df_trainQue = pd.read_csv('train_questions.csv')\n",
    "df_trainAns = pd.read_csv('train_answers.csv')\n",
    "df_testQue = pd.read_csv('test_questions.csv')\n",
    "df_testAns = pd.read_csv('test_answers.csv')"
   ]
  },
  {
   "cell_type": "code",
   "execution_count": 4,
   "id": "0f923ee0-1b07-43b3-9e65-17c1d9454df4",
   "metadata": {},
   "outputs": [
    {
     "name": "stdout",
     "output_type": "stream",
     "text": [
      "Question: For categorical target set, where the distribution is imbalanced (for example, 90/10) what approach should be used?\n",
      "Answer: Alexey\n",
      "Should we use something non-standard there or can we just go with the usual things we learned in the course?\n",
      "Hamed\n",
      "You just need to test different strategies. Something I noticed – if you have so many parse subclasses in your categorical [inaudible], you should be careful about using one-hot encoding. You might say you can use ordinal encoding, if your data in nature had some order. It will be useful. In my particular data, I couldn't have domain knowledge. I didn't know what the subclasses were, so I couldn't decide which strategy I should choose. But if you have the domain knowledge, that’s the key here, I think.\n"
     ]
    }
   ],
   "source": [
    "# retrieve a question and its corresponding answer from training datasets\n",
    "question_index_to_lookup = 0\n",
    "\n",
    "question_text = df_trainQue.iloc[question_index_to_lookup]['question']\n",
    "\n",
    "corresponding_answer = df_trainAns.iloc[question_index_to_lookup]['answer']\n",
    "\n",
    "print(\"Question:\", question_text)\n",
    "print(\"Answer:\", corresponding_answer)"
   ]
  },
  {
   "cell_type": "code",
   "execution_count": 5,
   "id": "74bfc9f0-34bf-43c9-add2-5c8b8fc8eb25",
   "metadata": {},
   "outputs": [],
   "source": [
    "# Merge training data (df_trainQue and df_trainAns)\n",
    "merged_df_train = pd.merge(df_trainQue, df_trainAns, on='answer_id', how='inner', suffixes=('_question', '_answer'))"
   ]
  },
  {
   "cell_type": "code",
   "execution_count": 6,
   "id": "e7af9d0f-2763-4423-a3c7-2c556f1cb749",
   "metadata": {},
   "outputs": [],
   "source": [
    "# Drop duplicates\n",
    "merged_df_train = merged_df_train.drop_duplicates()"
   ]
  },
  {
   "cell_type": "code",
   "execution_count": 7,
   "id": "d82bcc6e-cb08-439d-b3b2-9202f2117622",
   "metadata": {
    "scrolled": true
   },
   "outputs": [
    {
     "data": {
      "text/plain": [
       "(397, 10)"
      ]
     },
     "execution_count": 7,
     "metadata": {},
     "output_type": "execute_result"
    }
   ],
   "source": [
    "merged_df_train.shape"
   ]
  },
  {
   "cell_type": "code",
   "execution_count": 8,
   "id": "7ba53b8a-4e64-41e9-b75e-a7c4a9e6f27d",
   "metadata": {
    "scrolled": true
   },
   "outputs": [
    {
     "data": {
      "text/html": [
       "<div>\n",
       "<style scoped>\n",
       "    .dataframe tbody tr th:only-of-type {\n",
       "        vertical-align: middle;\n",
       "    }\n",
       "\n",
       "    .dataframe tbody tr th {\n",
       "        vertical-align: top;\n",
       "    }\n",
       "\n",
       "    .dataframe thead th {\n",
       "        text-align: right;\n",
       "    }\n",
       "</style>\n",
       "<table border=\"1\" class=\"dataframe\">\n",
       "  <thead>\n",
       "    <tr style=\"text-align: right;\">\n",
       "      <th></th>\n",
       "      <th>0</th>\n",
       "      <th>1</th>\n",
       "      <th>2</th>\n",
       "      <th>3</th>\n",
       "      <th>4</th>\n",
       "    </tr>\n",
       "  </thead>\n",
       "  <tbody>\n",
       "    <tr>\n",
       "      <th>question_id</th>\n",
       "      <td>79062</td>\n",
       "      <td>468946</td>\n",
       "      <td>968800</td>\n",
       "      <td>688404</td>\n",
       "      <td>63921</td>\n",
       "    </tr>\n",
       "    <tr>\n",
       "      <th>question</th>\n",
       "      <td>For categorical target set, where the distribu...</td>\n",
       "      <td>Is there anything that we are not allowed to u...</td>\n",
       "      <td>I have been catching up and have been doing ho...</td>\n",
       "      <td>Could you please explain what code we should l...</td>\n",
       "      <td>Is it just me or does the model have really ba...</td>\n",
       "    </tr>\n",
       "    <tr>\n",
       "      <th>course_question</th>\n",
       "      <td>Machine Learning Zoomcamp</td>\n",
       "      <td>Machine Learning Zoomcamp</td>\n",
       "      <td>Data Engineering Zoomcamp</td>\n",
       "      <td>Data Engineering Zoomcamp</td>\n",
       "      <td>Machine Learning Zoomcamp</td>\n",
       "    </tr>\n",
       "    <tr>\n",
       "      <th>year_question</th>\n",
       "      <td>2021</td>\n",
       "      <td>2021</td>\n",
       "      <td>2022</td>\n",
       "      <td>2022</td>\n",
       "      <td>2021</td>\n",
       "    </tr>\n",
       "    <tr>\n",
       "      <th>candidate_answers</th>\n",
       "      <td>156400,754877,105368,643810,912439</td>\n",
       "      <td>641330,634887,912439,425941,642829</td>\n",
       "      <td>954016,167856,75919,36798,838013</td>\n",
       "      <td>198661,629898,686577,3699,141765</td>\n",
       "      <td>754877,604487,912439,858915,425941</td>\n",
       "    </tr>\n",
       "    <tr>\n",
       "      <th>answer_id</th>\n",
       "      <td>156400</td>\n",
       "      <td>634887</td>\n",
       "      <td>954016</td>\n",
       "      <td>3699</td>\n",
       "      <td>858915</td>\n",
       "    </tr>\n",
       "    <tr>\n",
       "      <th>answer</th>\n",
       "      <td>Alexey\\nShould we use something non-standard t...</td>\n",
       "      <td>No, I don't think there is anything you cannot...</td>\n",
       "      <td>Alexey\\nYes, you will be. You can submit the p...</td>\n",
       "      <td>Alexey\\nI think the question refers to the hom...</td>\n",
       "      <td>Dmitry\\nIt's fine, because this is the showcas...</td>\n",
       "    </tr>\n",
       "    <tr>\n",
       "      <th>course_answer</th>\n",
       "      <td>Machine Learning Zoomcamp</td>\n",
       "      <td>Machine Learning Zoomcamp</td>\n",
       "      <td>Data Engineering Zoomcamp</td>\n",
       "      <td>Data Engineering Zoomcamp</td>\n",
       "      <td>Machine Learning Zoomcamp</td>\n",
       "    </tr>\n",
       "    <tr>\n",
       "      <th>year_answer</th>\n",
       "      <td>2021</td>\n",
       "      <td>2021</td>\n",
       "      <td>2022</td>\n",
       "      <td>2022</td>\n",
       "      <td>2021</td>\n",
       "    </tr>\n",
       "    <tr>\n",
       "      <th>attachments_files</th>\n",
       "      <td>NaN</td>\n",
       "      <td>NaN</td>\n",
       "      <td>NaN</td>\n",
       "      <td>NaN</td>\n",
       "      <td>NaN</td>\n",
       "    </tr>\n",
       "  </tbody>\n",
       "</table>\n",
       "</div>"
      ],
      "text/plain": [
       "                                                                   0  \\\n",
       "question_id                                                    79062   \n",
       "question           For categorical target set, where the distribu...   \n",
       "course_question                            Machine Learning Zoomcamp   \n",
       "year_question                                                   2021   \n",
       "candidate_answers                 156400,754877,105368,643810,912439   \n",
       "answer_id                                                     156400   \n",
       "answer             Alexey\\nShould we use something non-standard t...   \n",
       "course_answer                              Machine Learning Zoomcamp   \n",
       "year_answer                                                     2021   \n",
       "attachments_files                                                NaN   \n",
       "\n",
       "                                                                   1  \\\n",
       "question_id                                                   468946   \n",
       "question           Is there anything that we are not allowed to u...   \n",
       "course_question                            Machine Learning Zoomcamp   \n",
       "year_question                                                   2021   \n",
       "candidate_answers                 641330,634887,912439,425941,642829   \n",
       "answer_id                                                     634887   \n",
       "answer             No, I don't think there is anything you cannot...   \n",
       "course_answer                              Machine Learning Zoomcamp   \n",
       "year_answer                                                     2021   \n",
       "attachments_files                                                NaN   \n",
       "\n",
       "                                                                   2  \\\n",
       "question_id                                                   968800   \n",
       "question           I have been catching up and have been doing ho...   \n",
       "course_question                            Data Engineering Zoomcamp   \n",
       "year_question                                                   2022   \n",
       "candidate_answers                   954016,167856,75919,36798,838013   \n",
       "answer_id                                                     954016   \n",
       "answer             Alexey\\nYes, you will be. You can submit the p...   \n",
       "course_answer                              Data Engineering Zoomcamp   \n",
       "year_answer                                                     2022   \n",
       "attachments_files                                                NaN   \n",
       "\n",
       "                                                                   3  \\\n",
       "question_id                                                   688404   \n",
       "question           Could you please explain what code we should l...   \n",
       "course_question                            Data Engineering Zoomcamp   \n",
       "year_question                                                   2022   \n",
       "candidate_answers                   198661,629898,686577,3699,141765   \n",
       "answer_id                                                       3699   \n",
       "answer             Alexey\\nI think the question refers to the hom...   \n",
       "course_answer                              Data Engineering Zoomcamp   \n",
       "year_answer                                                     2022   \n",
       "attachments_files                                                NaN   \n",
       "\n",
       "                                                                   4  \n",
       "question_id                                                    63921  \n",
       "question           Is it just me or does the model have really ba...  \n",
       "course_question                            Machine Learning Zoomcamp  \n",
       "year_question                                                   2021  \n",
       "candidate_answers                 754877,604487,912439,858915,425941  \n",
       "answer_id                                                     858915  \n",
       "answer             Dmitry\\nIt's fine, because this is the showcas...  \n",
       "course_answer                              Machine Learning Zoomcamp  \n",
       "year_answer                                                     2021  \n",
       "attachments_files                                                NaN  "
      ]
     },
     "execution_count": 8,
     "metadata": {},
     "output_type": "execute_result"
    }
   ],
   "source": [
    "merged_df_train.head().T"
   ]
  },
  {
   "cell_type": "code",
   "execution_count": 9,
   "id": "fe8fe61a-fe29-4ed1-b86c-e058a206d61c",
   "metadata": {},
   "outputs": [
    {
     "name": "stdout",
     "output_type": "stream",
     "text": [
      "<class 'pandas.core.frame.DataFrame'>\n",
      "Int64Index: 397 entries, 0 to 398\n",
      "Data columns (total 10 columns):\n",
      " #   Column             Non-Null Count  Dtype \n",
      "---  ------             --------------  ----- \n",
      " 0   question_id        397 non-null    int64 \n",
      " 1   question           397 non-null    object\n",
      " 2   course_question    397 non-null    object\n",
      " 3   year_question      397 non-null    int64 \n",
      " 4   candidate_answers  397 non-null    object\n",
      " 5   answer_id          397 non-null    int64 \n",
      " 6   answer             397 non-null    object\n",
      " 7   course_answer      397 non-null    object\n",
      " 8   year_answer        397 non-null    int64 \n",
      " 9   attachments_files  25 non-null     object\n",
      "dtypes: int64(4), object(6)\n",
      "memory usage: 34.1+ KB\n"
     ]
    }
   ],
   "source": [
    "# summary of the DataFrame\n",
    "merged_df_train.info()"
   ]
  },
  {
   "cell_type": "code",
   "execution_count": 10,
   "id": "492bac44-ace4-407e-a924-6538d42d74b9",
   "metadata": {},
   "outputs": [],
   "source": [
    "# Load BERT tokenizer and model\n",
    "from transformers import BertTokenizer, BertModel\n",
    "import warnings\n",
    "warnings.filterwarnings(\"ignore\")\n",
    "\n",
    "tokenizer = BertTokenizer.from_pretrained('bert-base-uncased')\n",
    "model = BertModel.from_pretrained('bert-base-uncased') "
   ]
  },
  {
   "cell_type": "code",
   "execution_count": 11,
   "id": "b84a09f7-e342-4bd8-8ce7-edd41cf1b9e8",
   "metadata": {},
   "outputs": [
    {
     "data": {
      "text/plain": [
       "BertModel(\n",
       "  (embeddings): BertEmbeddings(\n",
       "    (word_embeddings): Embedding(30522, 768, padding_idx=0)\n",
       "    (position_embeddings): Embedding(512, 768)\n",
       "    (token_type_embeddings): Embedding(2, 768)\n",
       "    (LayerNorm): LayerNorm((768,), eps=1e-12, elementwise_affine=True)\n",
       "    (dropout): Dropout(p=0.1, inplace=False)\n",
       "  )\n",
       "  (encoder): BertEncoder(\n",
       "    (layer): ModuleList(\n",
       "      (0-11): 12 x BertLayer(\n",
       "        (attention): BertAttention(\n",
       "          (self): BertSelfAttention(\n",
       "            (query): Linear(in_features=768, out_features=768, bias=True)\n",
       "            (key): Linear(in_features=768, out_features=768, bias=True)\n",
       "            (value): Linear(in_features=768, out_features=768, bias=True)\n",
       "            (dropout): Dropout(p=0.1, inplace=False)\n",
       "          )\n",
       "          (output): BertSelfOutput(\n",
       "            (dense): Linear(in_features=768, out_features=768, bias=True)\n",
       "            (LayerNorm): LayerNorm((768,), eps=1e-12, elementwise_affine=True)\n",
       "            (dropout): Dropout(p=0.1, inplace=False)\n",
       "          )\n",
       "        )\n",
       "        (intermediate): BertIntermediate(\n",
       "          (dense): Linear(in_features=768, out_features=3072, bias=True)\n",
       "          (intermediate_act_fn): GELUActivation()\n",
       "        )\n",
       "        (output): BertOutput(\n",
       "          (dense): Linear(in_features=3072, out_features=768, bias=True)\n",
       "          (LayerNorm): LayerNorm((768,), eps=1e-12, elementwise_affine=True)\n",
       "          (dropout): Dropout(p=0.1, inplace=False)\n",
       "        )\n",
       "      )\n",
       "    )\n",
       "  )\n",
       "  (pooler): BertPooler(\n",
       "    (dense): Linear(in_features=768, out_features=768, bias=True)\n",
       "    (activation): Tanh()\n",
       "  )\n",
       ")"
      ]
     },
     "execution_count": 11,
     "metadata": {},
     "output_type": "execute_result"
    }
   ],
   "source": [
    "model"
   ]
  },
  {
   "cell_type": "code",
   "execution_count": 12,
   "id": "983a3bf6-0aa8-4ace-82ca-3d438c3d367c",
   "metadata": {},
   "outputs": [],
   "source": [
    "import torch\n",
    "\n",
    "def get_bert_embeddings(text):\n",
    "    \"\"\"\n",
    "    Function for getting text embeddings using BERT\n",
    "    Returns the logits for sequence classification\n",
    "    \"\"\"\n",
    "    # Step 1: Tokenize the text\n",
    "    tokens = tokenizer(text, return_tensors='pt', truncation=True, padding=True)\n",
    "    tokens = {key: value for key, value in tokens.items()}\n",
    "\n",
    "    # Pass the tokenized input through the BERT model\n",
    "    with torch.no_grad():\n",
    "        outputs = model(**tokens)\n",
    "\n",
    "    # Convert the tensor to a NumPy array\n",
    "    return outputs['last_hidden_state'][0].mean(dim=0).cpu().numpy()"
   ]
  },
  {
   "cell_type": "code",
   "execution_count": 13,
   "id": "fd9bf47e-6a6f-4645-83da-329443573d09",
   "metadata": {},
   "outputs": [],
   "source": [
    "# Get questions and answers embeddings for the train part\n",
    "train_question_emb = merged_df_train['question'].apply(get_bert_embeddings)\n",
    "train_answer_emb = merged_df_train['answer'].apply(get_bert_embeddings)"
   ]
  },
  {
   "cell_type": "code",
   "execution_count": 14,
   "id": "ec4c4679-065a-420f-9da1-dbe0bee74bb7",
   "metadata": {},
   "outputs": [],
   "source": [
    "# standardizing the embeddings of training questions and answers\n",
    "from sklearn.preprocessing import StandardScaler\n",
    "\n",
    "import numpy as np\n",
    "\n",
    "scaler = StandardScaler()\n",
    "train_question_emb_std = scaler.fit_transform(np.array(train_question_emb.tolist()))\n",
    "train_answer_emb_std = scaler.transform(np.array(train_answer_emb.tolist()))"
   ]
  },
  {
   "cell_type": "code",
   "execution_count": 15,
   "id": "e356befd-8646-4c49-b8dc-f8395bf2617c",
   "metadata": {},
   "outputs": [],
   "source": [
    "# func to find the best answer for each question based on their similarity\n",
    "from sklearn.metrics.pairwise import cosine_similarity\n",
    "\n",
    "def get_predictions(df_questions, df_answers):\n",
    "    \"\"\"\n",
    "    Function that finds the best answer to each question according to their similarity.\n",
    "    \"\"\"\n",
    "    predicted_answer_ids = []\n",
    "    predicted_answers = []\n",
    "\n",
    "    # Input Extraction\n",
    "    for index, row in df_questions.iterrows():\n",
    "        question_text = row['question']\n",
    "        candidate_answer_ids = [int(answer_id) for answer_id in row['candidate_answers'].split(\",\")]\n",
    "\n",
    "        # Getting questions embeddings\n",
    "        question_embedding = get_bert_embeddings(question_text)\n",
    "        question_embedding_standardized = scaler.transform(question_embedding.reshape(1, -1))\n",
    "        \n",
    "\n",
    "        # Getting answer candidate embeddings\n",
    "        candidate_answers_df = df_answers[df_answers['answer_id'].isin(candidate_answer_ids)]\n",
    "        candidate_answer_embeddings = candidate_answers_df['answer'].apply(get_bert_embeddings)\n",
    "        candidate_answer_embeddings_standardized = scaler.transform(np.array(candidate_answer_embeddings.tolist()))\n",
    "\n",
    "        # Calculating similarity between question and answers embeddings\n",
    "        similarities = cosine_similarity(question_embedding_standardized, candidate_answer_embeddings_standardized).flatten()\n",
    "\n",
    "        # Taking index of the best answer candidate\n",
    "        best_answer_index = similarities.argmax()\n",
    "\n",
    "        predicted_answer_id = candidate_answers_df.iloc[best_answer_index]['answer_id']\n",
    "        predicted_answer = candidate_answers_df.iloc[best_answer_index]['answer']\n",
    "        \n",
    "        predicted_answer_ids.append(predicted_answer_id)\n",
    "        predicted_answers.append(predicted_answer)\n",
    "\n",
    "    return predicted_answer_ids, predicted_answers"
   ]
  },
  {
   "cell_type": "code",
   "execution_count": 16,
   "id": "8ef94f9a-33bc-4263-bb53-6e412bd5f548",
   "metadata": {},
   "outputs": [],
   "source": [
    "# DataFrame combination of information from training question dataset \n",
    "train_predictions_df = pd.DataFrame({\n",
    "    'question_id': df_trainQue['question_id'],     \n",
    "    'question': df_trainQue['question'],\n",
    "    'candidate_answers': df_trainQue['candidate_answers'],\n",
    "    'answer_id': df_trainQue['answer_id'],\n",
    "})"
   ]
  },
  {
   "cell_type": "code",
   "execution_count": 17,
   "id": "fba8341c-0ff1-43bd-aeb5-d28fe344eacd",
   "metadata": {},
   "outputs": [
    {
     "data": {
      "text/html": [
       "<div>\n",
       "<style scoped>\n",
       "    .dataframe tbody tr th:only-of-type {\n",
       "        vertical-align: middle;\n",
       "    }\n",
       "\n",
       "    .dataframe tbody tr th {\n",
       "        vertical-align: top;\n",
       "    }\n",
       "\n",
       "    .dataframe thead th {\n",
       "        text-align: right;\n",
       "    }\n",
       "</style>\n",
       "<table border=\"1\" class=\"dataframe\">\n",
       "  <thead>\n",
       "    <tr style=\"text-align: right;\">\n",
       "      <th></th>\n",
       "      <th>question_id</th>\n",
       "      <th>question</th>\n",
       "      <th>candidate_answers</th>\n",
       "      <th>answer_id</th>\n",
       "    </tr>\n",
       "  </thead>\n",
       "  <tbody>\n",
       "    <tr>\n",
       "      <th>0</th>\n",
       "      <td>79062</td>\n",
       "      <td>For categorical target set, where the distribu...</td>\n",
       "      <td>156400,754877,105368,643810,912439</td>\n",
       "      <td>156400</td>\n",
       "    </tr>\n",
       "    <tr>\n",
       "      <th>1</th>\n",
       "      <td>468946</td>\n",
       "      <td>Is there anything that we are not allowed to u...</td>\n",
       "      <td>641330,634887,912439,425941,642829</td>\n",
       "      <td>634887</td>\n",
       "    </tr>\n",
       "    <tr>\n",
       "      <th>2</th>\n",
       "      <td>968800</td>\n",
       "      <td>I have been catching up and have been doing ho...</td>\n",
       "      <td>954016,167856,75919,36798,838013</td>\n",
       "      <td>954016</td>\n",
       "    </tr>\n",
       "    <tr>\n",
       "      <th>3</th>\n",
       "      <td>688404</td>\n",
       "      <td>Could you please explain what code we should l...</td>\n",
       "      <td>198661,629898,686577,3699,141765</td>\n",
       "      <td>3699</td>\n",
       "    </tr>\n",
       "    <tr>\n",
       "      <th>4</th>\n",
       "      <td>63921</td>\n",
       "      <td>Is it just me or does the model have really ba...</td>\n",
       "      <td>754877,604487,912439,858915,425941</td>\n",
       "      <td>858915</td>\n",
       "    </tr>\n",
       "  </tbody>\n",
       "</table>\n",
       "</div>"
      ],
      "text/plain": [
       "   question_id                                           question  \\\n",
       "0        79062  For categorical target set, where the distribu...   \n",
       "1       468946  Is there anything that we are not allowed to u...   \n",
       "2       968800  I have been catching up and have been doing ho...   \n",
       "3       688404  Could you please explain what code we should l...   \n",
       "4        63921  Is it just me or does the model have really ba...   \n",
       "\n",
       "                    candidate_answers  answer_id  \n",
       "0  156400,754877,105368,643810,912439     156400  \n",
       "1  641330,634887,912439,425941,642829     634887  \n",
       "2    954016,167856,75919,36798,838013     954016  \n",
       "3    198661,629898,686577,3699,141765       3699  \n",
       "4  754877,604487,912439,858915,425941     858915  "
      ]
     },
     "execution_count": 17,
     "metadata": {},
     "output_type": "execute_result"
    }
   ],
   "source": [
    "train_predictions_df.head()"
   ]
  },
  {
   "cell_type": "code",
   "execution_count": 18,
   "id": "409165f7-e462-4f04-85c2-61de6edb3b95",
   "metadata": {},
   "outputs": [],
   "source": [
    "# add predicted answer IDs & answers to train_predictions_df DataFrame\n",
    "train_predictions_df['predicted_answer_id'], train_predictions_df['predicted_answer'] = \\\n",
    "    get_predictions(df_trainQue, df_trainAns)"
   ]
  },
  {
   "cell_type": "code",
   "execution_count": 19,
   "id": "a2bad8e7-24ce-41a6-973d-5e5c6af5c861",
   "metadata": {},
   "outputs": [
    {
     "data": {
      "text/html": [
       "<div>\n",
       "<style scoped>\n",
       "    .dataframe tbody tr th:only-of-type {\n",
       "        vertical-align: middle;\n",
       "    }\n",
       "\n",
       "    .dataframe tbody tr th {\n",
       "        vertical-align: top;\n",
       "    }\n",
       "\n",
       "    .dataframe thead th {\n",
       "        text-align: right;\n",
       "    }\n",
       "</style>\n",
       "<table border=\"1\" class=\"dataframe\">\n",
       "  <thead>\n",
       "    <tr style=\"text-align: right;\">\n",
       "      <th></th>\n",
       "      <th>question_id</th>\n",
       "      <th>question</th>\n",
       "      <th>candidate_answers</th>\n",
       "      <th>answer_id</th>\n",
       "      <th>predicted_answer_id</th>\n",
       "      <th>predicted_answer</th>\n",
       "    </tr>\n",
       "  </thead>\n",
       "  <tbody>\n",
       "    <tr>\n",
       "      <th>0</th>\n",
       "      <td>79062</td>\n",
       "      <td>For categorical target set, where the distribu...</td>\n",
       "      <td>156400,754877,105368,643810,912439</td>\n",
       "      <td>156400</td>\n",
       "      <td>156400</td>\n",
       "      <td>Alexey\\nShould we use something non-standard t...</td>\n",
       "    </tr>\n",
       "    <tr>\n",
       "      <th>1</th>\n",
       "      <td>468946</td>\n",
       "      <td>Is there anything that we are not allowed to u...</td>\n",
       "      <td>641330,634887,912439,425941,642829</td>\n",
       "      <td>634887</td>\n",
       "      <td>634887</td>\n",
       "      <td>No, I don't think there is anything you cannot...</td>\n",
       "    </tr>\n",
       "    <tr>\n",
       "      <th>2</th>\n",
       "      <td>968800</td>\n",
       "      <td>I have been catching up and have been doing ho...</td>\n",
       "      <td>954016,167856,75919,36798,838013</td>\n",
       "      <td>954016</td>\n",
       "      <td>954016</td>\n",
       "      <td>Alexey\\nYes, you will be. You can submit the p...</td>\n",
       "    </tr>\n",
       "    <tr>\n",
       "      <th>3</th>\n",
       "      <td>688404</td>\n",
       "      <td>Could you please explain what code we should l...</td>\n",
       "      <td>198661,629898,686577,3699,141765</td>\n",
       "      <td>3699</td>\n",
       "      <td>3699</td>\n",
       "      <td>Alexey\\nI think the question refers to the hom...</td>\n",
       "    </tr>\n",
       "    <tr>\n",
       "      <th>4</th>\n",
       "      <td>63921</td>\n",
       "      <td>Is it just me or does the model have really ba...</td>\n",
       "      <td>754877,604487,912439,858915,425941</td>\n",
       "      <td>858915</td>\n",
       "      <td>858915</td>\n",
       "      <td>Dmitry\\nIt's fine, because this is the showcas...</td>\n",
       "    </tr>\n",
       "  </tbody>\n",
       "</table>\n",
       "</div>"
      ],
      "text/plain": [
       "   question_id                                           question  \\\n",
       "0        79062  For categorical target set, where the distribu...   \n",
       "1       468946  Is there anything that we are not allowed to u...   \n",
       "2       968800  I have been catching up and have been doing ho...   \n",
       "3       688404  Could you please explain what code we should l...   \n",
       "4        63921  Is it just me or does the model have really ba...   \n",
       "\n",
       "                    candidate_answers  answer_id  predicted_answer_id  \\\n",
       "0  156400,754877,105368,643810,912439     156400               156400   \n",
       "1  641330,634887,912439,425941,642829     634887               634887   \n",
       "2    954016,167856,75919,36798,838013     954016               954016   \n",
       "3    198661,629898,686577,3699,141765       3699                 3699   \n",
       "4  754877,604487,912439,858915,425941     858915               858915   \n",
       "\n",
       "                                    predicted_answer  \n",
       "0  Alexey\\nShould we use something non-standard t...  \n",
       "1  No, I don't think there is anything you cannot...  \n",
       "2  Alexey\\nYes, you will be. You can submit the p...  \n",
       "3  Alexey\\nI think the question refers to the hom...  \n",
       "4  Dmitry\\nIt's fine, because this is the showcas...  "
      ]
     },
     "execution_count": 19,
     "metadata": {},
     "output_type": "execute_result"
    }
   ],
   "source": [
    "train_predictions_df.head()"
   ]
  },
  {
   "cell_type": "code",
   "execution_count": 20,
   "id": "5ad13c1d-da3b-404e-bebf-a358f0cca2af",
   "metadata": {},
   "outputs": [
    {
     "name": "stdout",
     "output_type": "stream",
     "text": [
      "Accuracy: 0.7330\n"
     ]
    }
   ],
   "source": [
    "# accuracy of the model on the training set by comparing the predicted answer IDs with the true answer IDs\n",
    "from sklearn.metrics import accuracy_score\n",
    "\n",
    "\n",
    "true_labels = df_trainQue['answer_id']\n",
    "predicted_labels = train_predictions_df['predicted_answer_id']\n",
    "\n",
    "# Calculate accuracy\n",
    "accuracy = accuracy_score(true_labels, predicted_labels)\n",
    "\n",
    "print(f'Accuracy: {accuracy:.4f}')"
   ]
  },
  {
   "cell_type": "code",
   "execution_count": 21,
   "id": "4b1ff20b-9356-497c-922a-ce0d151fa1fd",
   "metadata": {},
   "outputs": [
    {
     "data": {
      "text/plain": [
       "(514, 5)"
      ]
     },
     "execution_count": 21,
     "metadata": {},
     "output_type": "execute_result"
    }
   ],
   "source": [
    "test_questions_df = df_testQue.drop_duplicates(subset='question_id')\n",
    "test_questions_df.shape"
   ]
  },
  {
   "cell_type": "code",
   "execution_count": 22,
   "id": "41ca1ce7-1d6e-4b18-b2c7-8e2433847482",
   "metadata": {},
   "outputs": [],
   "source": [
    "# Creating the dataframe for the test part\n",
    "test_predictions_df = pd.DataFrame({\n",
    "    'question_id': test_questions_df['question_id'], \n",
    "})\n",
    "test_predictions_df['predicted_answer_id'], test_predictions_df['predicted_answer'] = \\\n",
    "    get_predictions(test_questions_df, df_testAns)"
   ]
  },
  {
   "cell_type": "code",
   "execution_count": 29,
   "id": "fda582d6-0b0e-43d0-8fce-e28b3b66319b",
   "metadata": {},
   "outputs": [
    {
     "data": {
      "text/html": [
       "<div>\n",
       "<style scoped>\n",
       "    .dataframe tbody tr th:only-of-type {\n",
       "        vertical-align: middle;\n",
       "    }\n",
       "\n",
       "    .dataframe tbody tr th {\n",
       "        vertical-align: top;\n",
       "    }\n",
       "\n",
       "    .dataframe thead th {\n",
       "        text-align: right;\n",
       "    }\n",
       "</style>\n",
       "<table border=\"1\" class=\"dataframe\">\n",
       "  <thead>\n",
       "    <tr style=\"text-align: right;\">\n",
       "      <th></th>\n",
       "      <th>question_id</th>\n",
       "      <th>predicted_answer_id</th>\n",
       "      <th>predicted_answer</th>\n",
       "    </tr>\n",
       "  </thead>\n",
       "  <tbody>\n",
       "    <tr>\n",
       "      <th>0</th>\n",
       "      <td>707</td>\n",
       "      <td>767296</td>\n",
       "      <td>Alexey\\nProbably more than you want to put in....</td>\n",
       "    </tr>\n",
       "    <tr>\n",
       "      <th>1</th>\n",
       "      <td>534450</td>\n",
       "      <td>231208</td>\n",
       "      <td>Yes… and no? Sometimes, yeah. I wouldn't say o...</td>\n",
       "    </tr>\n",
       "    <tr>\n",
       "      <th>2</th>\n",
       "      <td>996163</td>\n",
       "      <td>816559</td>\n",
       "      <td>Alexey\\nYou can create a Python path variable ...</td>\n",
       "    </tr>\n",
       "    <tr>\n",
       "      <th>3</th>\n",
       "      <td>860215</td>\n",
       "      <td>988549</td>\n",
       "      <td>Again, you’ll probably hate me soon for saying...</td>\n",
       "    </tr>\n",
       "    <tr>\n",
       "      <th>4</th>\n",
       "      <td>980124</td>\n",
       "      <td>384381</td>\n",
       "      <td>Alexey\\nThe first thing about the dataset – wh...</td>\n",
       "    </tr>\n",
       "  </tbody>\n",
       "</table>\n",
       "</div>"
      ],
      "text/plain": [
       "   question_id  predicted_answer_id  \\\n",
       "0          707               767296   \n",
       "1       534450               231208   \n",
       "2       996163               816559   \n",
       "3       860215               988549   \n",
       "4       980124               384381   \n",
       "\n",
       "                                    predicted_answer  \n",
       "0  Alexey\\nProbably more than you want to put in....  \n",
       "1  Yes… and no? Sometimes, yeah. I wouldn't say o...  \n",
       "2  Alexey\\nYou can create a Python path variable ...  \n",
       "3  Again, you’ll probably hate me soon for saying...  \n",
       "4  Alexey\\nThe first thing about the dataset – wh...  "
      ]
     },
     "execution_count": 29,
     "metadata": {},
     "output_type": "execute_result"
    }
   ],
   "source": [
    "test_predictions_df[['question_id', 'predicted_answer_id']].to_csv('BERTQnA_submission.csv', index=False)\n",
    "test_predictions_df.head()"
   ]
  },
  {
   "cell_type": "code",
   "execution_count": 30,
   "id": "a188c31a-c83f-416c-b946-a07c116c33b0",
   "metadata": {},
   "outputs": [
    {
     "name": "stdout",
     "output_type": "stream",
     "text": [
      "zsh:1: command not found: kaggle\n"
     ]
    }
   ],
   "source": []
  }
 ],
 "metadata": {
  "kernelspec": {
   "display_name": "Python 3 (ipykernel)",
   "language": "python",
   "name": "python3"
  },
  "language_info": {
   "codemirror_mode": {
    "name": "ipython",
    "version": 3
   },
   "file_extension": ".py",
   "mimetype": "text/x-python",
   "name": "python",
   "nbconvert_exporter": "python",
   "pygments_lexer": "ipython3",
   "version": "3.11.4"
  }
 },
 "nbformat": 4,
 "nbformat_minor": 5
}
